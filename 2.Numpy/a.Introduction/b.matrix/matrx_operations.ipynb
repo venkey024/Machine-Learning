{
 "cells": [
  {
   "cell_type": "code",
   "execution_count": 2,
   "id": "fbd4f29c",
   "metadata": {},
   "outputs": [],
   "source": [
    "import numpy as np\n",
    "q1 = np.array([[200,220,250],\n",
    "               [150,180,210],\n",
    "               [300,330,360]])\n",
    "\n",
    "q2 = np.array([[209,239,259],\n",
    "               [155,192,222],\n",
    "               [310,340,375]])"
   ]
  },
  {
   "cell_type": "code",
   "execution_count": 3,
   "id": "999bebec",
   "metadata": {},
   "outputs": [
    {
     "data": {
      "text/plain": [
       "array([[409, 459, 509],\n",
       "       [305, 372, 432],\n",
       "       [610, 670, 735]])"
      ]
     },
     "execution_count": 3,
     "metadata": {},
     "output_type": "execute_result"
    }
   ],
   "source": [
    "q1+q2"
   ]
  },
  {
   "cell_type": "code",
   "execution_count": 4,
   "id": "d7e0e940",
   "metadata": {},
   "outputs": [
    {
     "data": {
      "text/plain": [
       "array([[ 9, 19,  9],\n",
       "       [ 5, 12, 12],\n",
       "       [10, 10, 15]])"
      ]
     },
     "execution_count": 4,
     "metadata": {},
     "output_type": "execute_result"
    }
   ],
   "source": [
    "q2-q1"
   ]
  },
  {
   "cell_type": "code",
   "execution_count": 6,
   "id": "6a371dcf",
   "metadata": {},
   "outputs": [
    {
     "data": {
      "text/plain": [
       "array([[4.5       , 8.63636364, 3.6       ],\n",
       "       [3.33333333, 6.66666667, 5.71428571],\n",
       "       [3.33333333, 3.03030303, 4.16666667]])"
      ]
     },
     "execution_count": 6,
     "metadata": {},
     "output_type": "execute_result"
    }
   ],
   "source": [
    "# i want in percentage\n",
    "\n",
    "(q2-q1)*100/q1"
   ]
  },
  {
   "cell_type": "code",
   "execution_count": null,
   "id": "52475d38",
   "metadata": {},
   "outputs": [],
   "source": []
  },
  {
   "cell_type": "code",
   "execution_count": null,
   "id": "fa750c1b",
   "metadata": {},
   "outputs": [],
   "source": []
  },
  {
   "cell_type": "code",
   "execution_count": null,
   "metadata": {},
   "outputs": [],
   "source": []
  },
  {
   "cell_type": "code",
   "execution_count": null,
   "id": "39ba1d58",
   "metadata": {},
   "outputs": [],
   "source": []
  }
 ],
 "metadata": {
  "kernelspec": {
   "display_name": "base",
   "language": "python",
   "name": "python3"
  },
  "language_info": {
   "codemirror_mode": {
    "name": "ipython",
    "version": 3
   },
   "file_extension": ".py",
   "mimetype": "text/x-python",
   "name": "python",
   "nbconvert_exporter": "python",
   "pygments_lexer": "ipython3",
   "version": "3.12.7"
  }
 },
 "nbformat": 4,
 "nbformat_minor": 5
}

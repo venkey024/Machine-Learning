{
 "cells": [
  {
   "cell_type": "markdown",
   "id": "60dc5d8b",
   "metadata": {},
   "source": [
    "NUMPY is a powerful library used for data analysis and machine learinig and scientific computing"
   ]
  },
  {
   "cell_type": "code",
   "execution_count": null,
   "id": "528eedec",
   "metadata": {},
   "outputs": [
    {
     "data": {
      "text/plain": [
       "[0, 1, 2, 3, 4]"
      ]
     },
     "execution_count": 17,
     "metadata": {},
     "output_type": "execute_result"
    }
   ],
   "source": [
    "#Numpy use -1\n",
    "\n",
    "#1.Numpy array takes less memroy as compared to python lists.\n",
    "import numpy as np\n",
    "\n",
    "l = list(range(100))\n",
    "l[:5]\n"
   ]
  },
  {
   "cell_type": "code",
   "execution_count": 18,
   "id": "1fcd53af",
   "metadata": {},
   "outputs": [
    {
     "name": "stdout",
     "output_type": "stream",
     "text": [
      "[0 1 2 3 4]\n"
     ]
    }
   ],
   "source": [
    "a = np.arange(100)\n",
    "print(a[:5])"
   ]
  },
  {
   "cell_type": "code",
   "execution_count": 19,
   "id": "df14e304",
   "metadata": {},
   "outputs": [
    {
     "name": "stdout",
     "output_type": "stream",
     "text": [
      "The List size 856\n",
      "The array size 512\n"
     ]
    }
   ],
   "source": [
    "import sys\n",
    "print(\"The List size\",sys.getsizeof(l))\n",
    "print(\"The array size\",sys.getsizeof(a))"
   ]
  },
  {
   "cell_type": "markdown",
   "id": "373dd681",
   "metadata": {},
   "source": [
    "2.Numpy array stores elements in contigous manner whereas list cannot store properly it sotres randomly in memory"
   ]
  },
  {
   "cell_type": "markdown",
   "id": "a3c3a552",
   "metadata": {},
   "source": [
    "3.NumPy aray executes faster than list"
   ]
  },
  {
   "cell_type": "code",
   "execution_count": 28,
   "id": "7300db98",
   "metadata": {},
   "outputs": [
    {
     "name": "stdout",
     "output_type": "stream",
     "text": [
      "Python will takes time :  0.02155470848083496\n"
     ]
    }
   ],
   "source": [
    "import time\n",
    "size = 100000\n",
    "l = list(range(size))\n",
    "l2 = list(range(size))\n",
    "\n",
    "start_time = time.time()\n",
    "c = [l+l2 for l,l2 in zip(l,l2)]\n",
    "\n",
    "end_time = time.time()\n",
    "\n",
    "print(\"Python will takes time : \",end_time-start_time)\n"
   ]
  },
  {
   "cell_type": "code",
   "execution_count": 30,
   "id": "c56707d9",
   "metadata": {},
   "outputs": [
    {
     "name": "stdout",
     "output_type": "stream",
     "text": [
      "Numpy aray takes time :  0.0010139942169189453\n"
     ]
    }
   ],
   "source": [
    "import numpy as np\n",
    "import time\n",
    "size = 100000\n",
    "l = np.arange(size)\n",
    "l2 = np.arange(size)\n",
    "\n",
    "start_time = time.time()\n",
    "c = l+l2\n",
    "\n",
    "end_time = time.time()\n",
    "\n",
    "print(\"Numpy aray takes time : \",end_time-start_time)\n"
   ]
  },
  {
   "cell_type": "markdown",
   "id": "23bce8bf",
   "metadata": {},
   "source": [
    "Convinient list with built-in functions"
   ]
  },
  {
   "cell_type": "code",
   "execution_count": 31,
   "id": "84b76a04",
   "metadata": {},
   "outputs": [
    {
     "data": {
      "text/plain": [
       "array([12, 34, 51])"
      ]
     },
     "execution_count": 31,
     "metadata": {},
     "output_type": "execute_result"
    }
   ],
   "source": [
    "rev_q1 = np.array([12,34,51])\n",
    "rev_q1"
   ]
  },
  {
   "cell_type": "code",
   "execution_count": 36,
   "id": "e0619d1a",
   "metadata": {},
   "outputs": [
    {
     "data": {
      "text/plain": [
       "array([[5, 2, 3],\n",
       "       [5, 6, 4]])"
      ]
     },
     "execution_count": 36,
     "metadata": {},
     "output_type": "execute_result"
    }
   ],
   "source": [
    "rev = np.array([[1,2,3],[5,6,4]])\n",
    "\n",
    "rev[0,0] = 5\n",
    "rev\n"
   ]
  },
  {
   "cell_type": "code",
   "execution_count": null,
   "id": "9c4cbc00",
   "metadata": {},
   "outputs": [
    {
     "data": {
      "text/plain": [
       "dtype('float64')"
      ]
     },
     "execution_count": 46,
     "metadata": {},
     "output_type": "execute_result"
    }
   ],
   "source": [
    "# data Type\n",
    "rev = np.array([1,2,3,4],dtype='float64')\n",
    "\n",
    "rev.dtype\n"
   ]
  },
  {
   "cell_type": "code",
   "execution_count": null,
   "id": "d6a561d8",
   "metadata": {},
   "outputs": [
    {
     "data": {
      "text/plain": [
       "8"
      ]
     },
     "execution_count": 47,
     "metadata": {},
     "output_type": "execute_result"
    }
   ],
   "source": [
    "# No.of bytes\n",
    "rev.itemsize"
   ]
  },
  {
   "cell_type": "code",
   "execution_count": 48,
   "id": "7611925b",
   "metadata": {},
   "outputs": [
    {
     "data": {
      "text/plain": [
       "(4,)"
      ]
     },
     "execution_count": 48,
     "metadata": {},
     "output_type": "execute_result"
    }
   ],
   "source": [
    "#shape\n",
    "rev.shape"
   ]
  },
  {
   "cell_type": "code",
   "execution_count": null,
   "id": "3a947fb5",
   "metadata": {},
   "outputs": [
    {
     "data": {
      "text/plain": [
       "1"
      ]
     },
     "execution_count": 49,
     "metadata": {},
     "output_type": "execute_result"
    }
   ],
   "source": [
    "# n dimensions\n",
    "rev.ndim"
   ]
  },
  {
   "cell_type": "code",
   "execution_count": 51,
   "id": "c2cbe0e6",
   "metadata": {},
   "outputs": [
    {
     "data": {
      "text/plain": [
       "array([10. , 12.5, 15. , 17.5, 20. ])"
      ]
     },
     "execution_count": 51,
     "metadata": {},
     "output_type": "execute_result"
    }
   ],
   "source": [
    "np.linspace(10,20,5)"
   ]
  },
  {
   "cell_type": "code",
   "execution_count": 57,
   "id": "1f2f919a",
   "metadata": {},
   "outputs": [
    {
     "data": {
      "text/plain": [
       "array([ 1,  2,  3,  4,  5,  6, 43,  2,  6, 22])"
      ]
     },
     "execution_count": 57,
     "metadata": {},
     "output_type": "execute_result"
    }
   ],
   "source": [
    "rev = np.array([[1,2,3,4,5],[6,43,2,6,22]])\n",
    "\n",
    "rev.flatten()"
   ]
  },
  {
   "cell_type": "code",
   "execution_count": 63,
   "id": "8dd6ca45",
   "metadata": {},
   "outputs": [
    {
     "data": {
      "text/plain": [
       "array([[0., 0., 0., 0.],\n",
       "       [0., 0., 0., 0.],\n",
       "       [0., 0., 0., 0.]])"
      ]
     },
     "execution_count": 63,
     "metadata": {},
     "output_type": "execute_result"
    }
   ],
   "source": [
    "np.zeros((3,4))"
   ]
  },
  {
   "cell_type": "code",
   "execution_count": 72,
   "id": "81eda1d5",
   "metadata": {},
   "outputs": [
    {
     "data": {
      "text/plain": [
       "array([[ 1,  2,  3,  4],\n",
       "       [56, 87, 98, 12]])"
      ]
     },
     "execution_count": 72,
     "metadata": {},
     "output_type": "execute_result"
    }
   ],
   "source": [
    "rev = np.array([[1,2,3,4],[56,87,98,12]])\n",
    "\n",
    "rev"
   ]
  },
  {
   "cell_type": "code",
   "execution_count": 79,
   "id": "2a303a8d",
   "metadata": {},
   "outputs": [
    {
     "data": {
      "text/plain": [
       "10"
      ]
     },
     "execution_count": 79,
     "metadata": {},
     "output_type": "execute_result"
    }
   ],
   "source": [
    "rev[0][0:].sum()"
   ]
  },
  {
   "cell_type": "code",
   "execution_count": null,
   "id": "99affc4d",
   "metadata": {},
   "outputs": [],
   "source": []
  }
 ],
 "metadata": {
  "kernelspec": {
   "display_name": "base",
   "language": "python",
   "name": "python3"
  },
  "language_info": {
   "codemirror_mode": {
    "name": "ipython",
    "version": 3
   },
   "file_extension": ".py",
   "mimetype": "text/x-python",
   "name": "python",
   "nbconvert_exporter": "python",
   "pygments_lexer": "ipython3",
   "version": "3.12.7"
  }
 },
 "nbformat": 4,
 "nbformat_minor": 5
}

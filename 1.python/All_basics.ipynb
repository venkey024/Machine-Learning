{
 "cells": [
  {
   "cell_type": "code",
   "execution_count": null,
   "id": "2ad4375b",
   "metadata": {},
   "outputs": [],
   "source": []
  },
  {
   "cell_type": "code",
   "execution_count": 3,
   "id": "33ff554b",
   "metadata": {},
   "outputs": [
    {
     "name": "stdout",
     "output_type": "stream",
     "text": [
      "<class 'str'>\n"
     ]
    }
   ],
   "source": [
    "v = 'means'\n",
    "print(type(v))"
   ]
  },
  {
   "cell_type": "code",
   "execution_count": 5,
   "id": "10fc15f2",
   "metadata": {},
   "outputs": [
    {
     "name": "stdout",
     "output_type": "stream",
     "text": [
      "mine's food is \n",
      " banana\n"
     ]
    }
   ],
   "source": [
    "v = \"mine's food is \\n banana\"\n",
    "print(v)"
   ]
  },
  {
   "cell_type": "code",
   "execution_count": 28,
   "id": "579d7b8f",
   "metadata": {},
   "outputs": [
    {
     "data": {
      "text/plain": [
       "dict_values(['virat', 'India', 973])"
      ]
     },
     "execution_count": 28,
     "metadata": {},
     "output_type": "execute_result"
    }
   ],
   "source": [
    "#Dictionaries\n",
    "\n",
    "\n",
    "d = {'first_n':'virat','team':'India','high_S':973}\n",
    "\n",
    "d.values()\n",
    "    \n",
    "\n",
    "\n"
   ]
  },
  {
   "cell_type": "code",
   "execution_count": 20,
   "id": "4604bc2a",
   "metadata": {},
   "outputs": [
    {
     "data": {
      "text/plain": [
       "['first_n', 'team', 'high_S']"
      ]
     },
     "execution_count": 20,
     "metadata": {},
     "output_type": "execute_result"
    }
   ],
   "source": [
    "list(d.keys())"
   ]
  },
  {
   "cell_type": "code",
   "execution_count": 22,
   "id": "52e720f7",
   "metadata": {},
   "outputs": [
    {
     "data": {
      "text/plain": [
       "['virat', 'India', 973]"
      ]
     },
     "execution_count": 22,
     "metadata": {},
     "output_type": "execute_result"
    }
   ],
   "source": [
    "list(d.values())"
   ]
  },
  {
   "cell_type": "code",
   "execution_count": 35,
   "id": "9ede20c7",
   "metadata": {},
   "outputs": [
    {
     "name": "stdout",
     "output_type": "stream",
     "text": [
      "61003\n"
     ]
    }
   ],
   "source": [
    "\n",
    "d = {'first_n':5484,'team':54546,'high_S':973}\n",
    "print(sum(list(d.values())))"
   ]
  },
  {
   "cell_type": "code",
   "execution_count": 26,
   "id": "63ab646d",
   "metadata": {},
   "outputs": [
    {
     "name": "stdout",
     "output_type": "stream",
     "text": [
      "234\n"
     ]
    }
   ],
   "source": [
    "l=[23,43,123,32,234]\n",
    "print(max(l))"
   ]
  },
  {
   "cell_type": "code",
   "execution_count": 40,
   "id": "8848a3ad",
   "metadata": {},
   "outputs": [
    {
     "name": "stdout",
     "output_type": "stream",
     "text": [
      "team\n"
     ]
    }
   ],
   "source": [
    "d = {'first_n':5484,'team':54546,'high_S':973}\n",
    "for i,j in d.items():\n",
    "    c = max(list(d.values()))\n",
    "    if j == c:\n",
    "        print(i)"
   ]
  },
  {
   "cell_type": "code",
   "execution_count": null,
   "id": "4d8bed7a",
   "metadata": {},
   "outputs": [
    {
     "name": "stdout",
     "output_type": "stream",
     "text": [
      "2\n"
     ]
    }
   ],
   "source": [
    "l = [1,2,56,7,89,87,6,54,8,76,54,323,4,56]\n",
    " \n",
    "c=0\n",
    "\n",
    "for i in range(len(l)):\n",
    "    if l[i] == 54:\n",
    "        c +=1\n",
    "    else:\n",
    "        pass\n",
    "print(c)\n"
   ]
  },
  {
   "cell_type": "code",
   "execution_count": 3,
   "id": "f6a6c07b",
   "metadata": {},
   "outputs": [
    {
     "name": "stdout",
     "output_type": "stream",
     "text": [
      "2\n"
     ]
    }
   ],
   "source": [
    "l = [1,2,56,7,89,87,6,54,8,76,54,323,4,56]\n",
    "i,c=0,0\n",
    "\n",
    "while i<len(l):\n",
    "    if(l[i] == 54):\n",
    "        c +=1\n",
    "    i +=1\n",
    "print(c)\n",
    "\n",
    " \n",
    "    "
   ]
  },
  {
   "cell_type": "code",
   "execution_count": 14,
   "id": "9a74bdf3",
   "metadata": {},
   "outputs": [
    {
     "name": "stdout",
     "output_type": "stream",
     "text": [
      "team\n"
     ]
    }
   ],
   "source": [
    "d = {'first_n':5484,'team':54546,'high_S':'s'}\n",
    "var = max(d)\n",
    "print(var)\n"
   ]
  }
 ],
 "metadata": {
  "kernelspec": {
   "display_name": "base",
   "language": "python",
   "name": "python3"
  },
  "language_info": {
   "codemirror_mode": {
    "name": "ipython",
    "version": 3
   },
   "file_extension": ".py",
   "mimetype": "text/x-python",
   "name": "python",
   "nbconvert_exporter": "python",
   "pygments_lexer": "ipython3",
   "version": "3.12.7"
  }
 },
 "nbformat": 4,
 "nbformat_minor": 5
}

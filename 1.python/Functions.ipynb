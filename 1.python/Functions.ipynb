{
 "cells": [
  {
   "cell_type": "code",
   "execution_count": null,
   "id": "9d2569b1",
   "metadata": {},
   "outputs": [
    {
     "name": "stdout",
     "output_type": "stream",
     "text": [
      "367\n"
     ]
    }
   ],
   "source": [
    "#functions\n",
    "expenses_surgey = [10,89,43,32]\n",
    "expenses_sundar = [34,45,54,234]\n",
    "\n",
    "def add_expenses(person):\n",
    "    s=0\n",
    "    for i in range(0,len(person)):\n",
    "        s = s+person[i]\n",
    "    return s\n",
    "print(add_expenses(expenses_sundar))"
   ]
  },
  {
   "cell_type": "code",
   "execution_count": 25,
   "id": "a2a4b39d",
   "metadata": {},
   "outputs": [
    {
     "name": "stdout",
     "output_type": "stream",
     "text": [
      "*\n",
      "**\n",
      "***\n"
     ]
    }
   ],
   "source": [
    "# n=3\n",
    "# *\n",
    "# * *\n",
    "# * * *\n",
    "\n",
    "for i in range(3):\n",
    "    for j in range(0,i+1):\n",
    "        print(\"*\",end=\"\")\n",
    "    print(\"\")\n"
   ]
  },
  {
   "cell_type": "code",
   "execution_count": 28,
   "id": "1cde2496",
   "metadata": {},
   "outputs": [
    {
     "name": "stdout",
     "output_type": "stream",
     "text": [
      "  * \n",
      " * * \n",
      "* * * \n"
     ]
    }
   ],
   "source": [
    "for i in range(3):\n",
    "    for j in range(3-(i+1)):\n",
    "        print(\" \",end=\"\")\n",
    "    for i in range(i+1):\n",
    "        print(\"* \",end=\"\")\n",
    "    print(\"\")\n",
    "    \n",
    "        "
   ]
  },
  {
   "cell_type": "code",
   "execution_count": null,
   "id": "e5a25079",
   "metadata": {},
   "outputs": [
    {
     "name": "stdout",
     "output_type": "stream",
     "text": [
      "0\n",
      "\n",
      "11\n",
      "\n",
      "222\n",
      "\n"
     ]
    }
   ],
   "source": []
  },
  {
   "cell_type": "code",
   "execution_count": null,
   "id": "fb5f6472",
   "metadata": {},
   "outputs": [
    {
     "name": "stdout",
     "output_type": "stream",
     "text": [
      "{'apple': 3, 'banana': 2, 'grape': 1}\n"
     ]
    }
   ],
   "source": [
    "#dictionary Example -- frequency\n",
    "sentence = \"apple banana apple grape banana apple\"\n",
    "words = sentence.split(\" \")\n",
    "freq = {}\n",
    "\n",
    "for word in words:\n",
    "    freq[word] = sentence.count(word)\n",
    "print(freq)\n",
    "    \n"
   ]
  },
  {
   "cell_type": "code",
   "execution_count": null,
   "id": "748afaf5",
   "metadata": {},
   "outputs": [
    {
     "name": "stdout",
     "output_type": "stream",
     "text": [
      "{1: 2, 2: 5, 3: 4, 4: 6, 34: 1, 5: 3, 6: 2, 8: 1}\n"
     ]
    }
   ],
   "source": [
    "#frequncy of numbers\n",
    "l = [1,2,3,4,4,3,2,1,34,2,4,3,2,4,5,5,6,8,4,3,2,5,6,4]\n",
    "f ={}\n",
    "\n",
    "for i in l:\n",
    "    if i not in f:\n",
    "        f[i] = 1\n",
    "    else:\n",
    "        f[i] += 1\n",
    "print(f)\n",
    "\n"
   ]
  },
  {
   "cell_type": "code",
   "execution_count": null,
   "id": "9506619b",
   "metadata": {},
   "outputs": [],
   "source": []
  },
  {
   "cell_type": "code",
   "execution_count": 53,
   "id": "6ffc7953",
   "metadata": {},
   "outputs": [
    {
     "name": "stdout",
     "output_type": "stream",
     "text": [
      "{'': 1, 'my': 1, 'name': 1, 'is': 1, 'venkey': 1, 'can': 1, 'i': 1, 'go': 1, 'to': 1, 'that': 1, 'place': 1, 'for': 1, 'a': 1, 'vacation': 1}\n"
     ]
    }
   ],
   "source": [
    "s = \" my name is venkey can i go to that place for a vacation\"\n",
    "\n",
    "words = s.split(' ')\n",
    "f = {}\n",
    "\n",
    "for i in words:\n",
    "    if i not in f:\n",
    "        f[i] = 1\n",
    "    else:\n",
    "        f[i] +=1\n",
    "print(f)\n",
    "    "
   ]
  },
  {
   "cell_type": "code",
   "execution_count": 60,
   "id": "9c308610",
   "metadata": {},
   "outputs": [
    {
     "name": "stdout",
     "output_type": "stream",
     "text": [
      "my name is venkey can i go      to that place for a vacation\n"
     ]
    }
   ],
   "source": [
    "s = \" my name is venkey can i go      to that place for a vacation\"\n",
    "a = s.strip(' ')\n",
    "print(a)"
   ]
  },
  {
   "cell_type": "code",
   "execution_count": 8,
   "id": "89f0d9a4",
   "metadata": {},
   "outputs": [
    {
     "name": "stdout",
     "output_type": "stream",
     "text": [
      "1\n",
      "2\n",
      "3\n",
      "4\n",
      "5\n",
      "6\n",
      "7\n",
      "8\n",
      "9\n",
      "823\n",
      "45\n",
      "67\n",
      "89\n"
     ]
    }
   ],
   "source": [
    "l=[1,2,3,2,1,2,3,2,1,3,4,5,6,7,8,9,8,7,6,5,4,3,2,1,2,3,4,5,6,7,823,45,67,89]\n",
    "d= {}\n",
    "for i in l:\n",
    "    if i in d:\n",
    "        d[i] += 1\n",
    "    else:\n",
    "        d[i] = 1\n",
    "for i,j in d.items():\n",
    "    if j>=1:\n",
    "        print(i)\n",
    "    else:\n",
    "        pass\n",
    "\n",
    "\n"
   ]
  },
  {
   "cell_type": "code",
   "execution_count": 4,
   "id": "d9f2cf95",
   "metadata": {},
   "outputs": [
    {
     "name": "stdout",
     "output_type": "stream",
     "text": [
      "* \n",
      "\n",
      "* * \n",
      "\n",
      "* * * \n",
      "\n",
      "* * * * \n",
      "\n"
     ]
    }
   ],
   "source": [
    "for i in range(1,5):\n",
    "    for j in range(i):\n",
    "        print(\"*\",end=\" \")\n",
    "    print(\"\\n\")"
   ]
  },
  {
   "cell_type": "code",
   "execution_count": 9,
   "id": "a7d60607",
   "metadata": {},
   "outputs": [
    {
     "name": "stdout",
     "output_type": "stream",
     "text": [
      "****\n",
      "\n",
      "***\n",
      "\n",
      "**\n",
      "\n",
      "*\n",
      "\n"
     ]
    }
   ],
   "source": [
    "for i in range(5,1,-1):\n",
    "    for j in range(1,i):\n",
    "        print(\"*\",end=\"\")\n",
    "    print(\"\\n\")"
   ]
  },
  {
   "cell_type": "code",
   "execution_count": 13,
   "id": "6c373798",
   "metadata": {},
   "outputs": [
    {
     "name": "stdout",
     "output_type": "stream",
     "text": [
      "1\n",
      "\n",
      "12\n",
      "\n",
      "123\n",
      "\n",
      "1234\n",
      "\n"
     ]
    }
   ],
   "source": [
    "for i in range(1,5):\n",
    "    for j in range(1,i+1):\n",
    "        print(j,end='')\n",
    "    print(\"\\n\")"
   ]
  },
  {
   "cell_type": "code",
   "execution_count": 3,
   "id": "eccaa323",
   "metadata": {},
   "outputs": [
    {
     "name": "stdout",
     "output_type": "stream",
     "text": [
      "1 \n",
      "2 3 \n",
      "4 5 6 \n",
      "7 8 9 10 \n"
     ]
    }
   ],
   "source": [
    "x=1\n",
    "for i in range(1,5):\n",
    "    for j in range(i):\n",
    "        print(x,end=\" \")\n",
    "        x +=1\n",
    "    print(\"\")"
   ]
  },
  {
   "cell_type": "code",
   "execution_count": 8,
   "id": "851ef24d",
   "metadata": {},
   "outputs": [
    {
     "name": "stdout",
     "output_type": "stream",
     "text": [
      "1\n",
      "12\n",
      "123\n",
      "1234\n"
     ]
    }
   ],
   "source": [
    "# 1\n",
    "# 12\n",
    "# 123\n",
    "# 1234\n",
    "for i in range(1,5):\n",
    "    for j in range(1,i+1):\n",
    "        print(j,end=\"\")\n",
    "    print(\"\")\n",
    "\n",
    "\n",
    "\n"
   ]
  },
  {
   "cell_type": "code",
   "execution_count": null,
   "id": "d260c069",
   "metadata": {},
   "outputs": [],
   "source": []
  },
  {
   "cell_type": "code",
   "execution_count": null,
   "id": "883a6104",
   "metadata": {},
   "outputs": [],
   "source": []
  }
 ],
 "metadata": {
  "kernelspec": {
   "display_name": "base",
   "language": "python",
   "name": "python3"
  },
  "language_info": {
   "codemirror_mode": {
    "name": "ipython",
    "version": 3
   },
   "file_extension": ".py",
   "mimetype": "text/x-python",
   "name": "python",
   "nbconvert_exporter": "python",
   "pygments_lexer": "ipython3",
   "version": "3.12.7"
  }
 },
 "nbformat": 4,
 "nbformat_minor": 5
}

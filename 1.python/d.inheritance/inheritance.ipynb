{
 "cells": [
  {
   "cell_type": "code",
   "execution_count": 23,
   "id": "00d915aa",
   "metadata": {},
   "outputs": [
    {
     "name": "stdout",
     "output_type": "stream",
     "text": [
      "The brand Suzuki of access vehicle cost is 113000\n"
     ]
    }
   ],
   "source": [
    "class Vehicle:\n",
    "    def __init__(self,brand):\n",
    "        self.brand = brand\n",
    "class access(Vehicle):\n",
    "    def veh_cost(self,cost):\n",
    "        cost = cost\n",
    "        print(f\"The brand {self.brand} of access vehicle cost is {cost}\")\n",
    "ac = access('Suzuki')\n",
    "ac.veh_cost(113000)"
   ]
  },
  {
   "cell_type": "code",
   "execution_count": null,
   "id": "6eb51f49",
   "metadata": {},
   "outputs": [
    {
     "name": "stdout",
     "output_type": "stream",
     "text": [
      "The area of rectagle is 1904\n"
     ]
    }
   ],
   "source": [
    "'''Create a class Shape with a method area() and a class Rectangle that inherits from Shape. \n",
    "Pass length and width to calculate area.'''\n",
    "\n",
    "class Shape:\n",
    "    def __init__(self,length,width):\n",
    "        self.length = length\n",
    "        self.width = width\n",
    "class Rectangle(Shape):\n",
    "    def area(self):\n",
    "        print(f\"The area of rectagle is {self.length * self.width}\")\n",
    "rec = Rectangle(34,56)\n",
    "rec.area()\n",
    "\n",
    "\n"
   ]
  },
  {
   "cell_type": "code",
   "execution_count": null,
   "id": "15ecdc66",
   "metadata": {},
   "outputs": [],
   "source": [
    "'''AnimalCreate a class Person with attributes name and age.\n",
    "Create a subclass Employee that adds employee_id and salary.\n",
    "Use constructor chaining (super()) to initialize attributes from the base class.\n",
    "Also, write a method display() in Employee to print all details. '''\n",
    "\n",
    "\n",
    "\n",
    "\n",
    "\n",
    "\n",
    "\n",
    "\n",
    "\n"
   ]
  },
  {
   "cell_type": "code",
   "execution_count": 21,
   "id": "5328f0c0",
   "metadata": {},
   "outputs": [
    {
     "name": "stdout",
     "output_type": "stream",
     "text": [
      "Balance is not sufficient\n"
     ]
    }
   ],
   "source": [
    "'''Create a class BankAccount with attributes account_no and balance. \n",
    "Inherit SavingsAccount and CurrentAccount and implement methods like deposit() and withdraw().'''\n",
    "\n",
    "\n",
    "\n",
    "\n",
    "class BankAccount:\n",
    "    def __init__(self,account_no,balance):\n",
    "        self.account_no = account_no\n",
    "        self.balance = balance\n",
    "class SavingsAccount(BankAccount):\n",
    "    def deposit(self,money):\n",
    "        money = money\n",
    "        self.balance = self.balance+ money\n",
    "        print(f'The Total amount {self.balance}')\n",
    "    def withdraw(self,money):\n",
    "        if self.balance >=money:\n",
    "            self.balance -=money\n",
    "            print(f'The total amount {self.balance}')\n",
    "        else:\n",
    "            print(\"Balance is not sufficient\")  \n",
    "class CuurentAccount(BankAccount):\n",
    "    def deposit(self,money):\n",
    "        money = money\n",
    "        self.balance = self.balance+ money\n",
    "        print(f'The Total amount {self.balance}')\n",
    "    def withdraw(self,money):\n",
    "        if self.balance >=money:\n",
    "            self.balance -=money\n",
    "            print(f'The total amount {self.balance}')\n",
    "        else:\n",
    "            print(\"Balance is not sufficient\")       \n",
    "        \n",
    "\n",
    "obj = SavingsAccount(123456765,50000)\n",
    "# obj.deposit(5000)\n",
    "obj.withdraw(60000)\n",
    "        "
   ]
  },
  {
   "cell_type": "code",
   "execution_count": 27,
   "id": "503a360e",
   "metadata": {},
   "outputs": [
    {
     "name": "stdout",
     "output_type": "stream",
     "text": [
      "HI\n"
     ]
    }
   ],
   "source": [
    "print(\"HI\")"
   ]
  },
  {
   "cell_type": "code",
   "execution_count": 28,
   "id": "cdd5586d",
   "metadata": {},
   "outputs": [
    {
     "ename": "NameError",
     "evalue": "name 'power' is not defined",
     "output_type": "error",
     "traceback": [
      "\u001b[1;31m---------------------------------------------------------------------------\u001b[0m",
      "\u001b[1;31mNameError\u001b[0m                                 Traceback (most recent call last)",
      "Cell \u001b[1;32mIn[28], line 1\u001b[0m\n\u001b[1;32m----> 1\u001b[0m power(\u001b[38;5;241m2\u001b[39m,\u001b[38;5;241m5\u001b[39m)\n",
      "\u001b[1;31mNameError\u001b[0m: name 'power' is not defined"
     ]
    }
   ],
   "source": [
    "power(2,5)"
   ]
  },
  {
   "cell_type": "code",
   "execution_count": 40,
   "id": "6ba60df0",
   "metadata": {},
   "outputs": [
    {
     "name": "stdout",
     "output_type": "stream",
     "text": [
      "Apple IPHONE 16S Pro Max: 156 GB RAM, 256 GB Storage, Dual SIM: False\n",
      "Dialing 7995798027...\n"
     ]
    }
   ],
   "source": [
    "#Excercise\n",
    "\n",
    "'''Create inheritance using MobilePhone as base class and Apple & Samsung as child class\n",
    "\n",
    "The base class should have properties:\n",
    "\n",
    "ScreenType = Touch Screen\n",
    "NetworkType = 4G/5G\n",
    "DualSim = True or False\n",
    "FrontCamera = (5MP/8MP/12MP/16MP)\n",
    "rearCamera = (8MP/12MP/16MP/32MP/48MP)\n",
    "RAM = (2GB/3GB/4GB)\n",
    "Storage = (16GB/32GB/64GB)\n",
    "Create basic mobile phone functionalities in the classes like: make_call, recieve_call, take_a_picture, etc.\n",
    "\n",
    "Use super() constructor for calling parent class’s constructor\n",
    "\n",
    "Make some objects of Apple class with different properties\n",
    "\n",
    "Make some objects of Samsung class with different properties'''\n",
    "\n",
    "\n",
    "\n",
    "class MobilePhone:\n",
    "    def __init__(self, dual_sim, front_camera, rear_camera, ram, storage):\n",
    "        self.screen_type = \"Touch Screen\"\n",
    "        self.network_type = \"4G/5G\"\n",
    "        self.dual_sim = dual_sim\n",
    "        self.front_camera = front_camera\n",
    "        self.rear_camera = rear_camera\n",
    "        self.ram = ram\n",
    "        self.storage = storage\n",
    "\n",
    "    def make_call(self, number):\n",
    "        print(f\"Dialing {number}...\")\n",
    "\n",
    "    def receive_call(self, caller):\n",
    "        print(f\"Incoming call from {caller}...\")\n",
    "\n",
    "    def take_a_picture(self):\n",
    "        print(f\"Taking a picture with {self.rear_camera} rear camera and {self.front_camera} front camera\")\n",
    "\n",
    "\n",
    "class Apple(MobilePhone):\n",
    "    def __init__(self, model, dual_sim, front_camera, rear_camera, ram, storage):\n",
    "        super().__init__(dual_sim, front_camera, rear_camera, ram, storage)\n",
    "        self.brand = \"Apple\"\n",
    "        self.model = model\n",
    "\n",
    "    def show_info(self):\n",
    "        print(f\"{self.brand} {self.model}: {self.ram} RAM, {self.storage} Storage, Dual SIM: {self.dual_sim}\")\n",
    "\n",
    "# Creating Apple phone objects\n",
    "\n",
    "apple = Apple('IPHONE 16S Pro Max',False,'13 Mega pixel','108 Mega Pixel','156 GB','256 GB')\n",
    "\n",
    "apple.show_info()\n",
    "\n",
    "apple.make_call(7995798027)\n",
    "\n",
    "\n",
    "\n"
   ]
  },
  {
   "cell_type": "code",
   "execution_count": null,
   "id": "4cc5d93c",
   "metadata": {},
   "outputs": [],
   "source": [
    "# '''📌 Study Points: super() and Inheritance in Python\n",
    "# Inheritance allows a child class to reuse code from a parent class.\n",
    "\n",
    "# The super() function is used to call the parent class’s methods or constructor from the child class.\n",
    "\n",
    "# It helps avoid repeating code — especially for initializing common attributes.\n",
    "\n",
    "# You pass arguments from the child class to the parent class using super().__init__(...).\n",
    "\n",
    "# The child class receives all arguments first, and it decides which ones to send to the parent class.\n",
    "\n",
    "# The parent class is initialized before the child class finishes its own setup.\n",
    "\n",
    "# super() improves code readability, modularity, and maintainability.\n",
    "\n",
    "# Using super() is the recommended way instead of directly calling Paren Class.__init__.\n",
    "\n",
    "# Only the parent class can initialize its own variables — the child class should not duplicate that logic.\n",
    "\n",
    "# Works well in single and multiple inheritance (more useful in multiple inheritance to avoid confusion).\n",
    "\n",
    "# '''"
   ]
  }
 ],
 "metadata": {
  "kernelspec": {
   "display_name": "base",
   "language": "python",
   "name": "python3"
  },
  "language_info": {
   "codemirror_mode": {
    "name": "ipython",
    "version": 3
   },
   "file_extension": ".py",
   "mimetype": "text/x-python",
   "name": "python",
   "nbconvert_exporter": "python",
   "pygments_lexer": "ipython3",
   "version": "3.12.7"
  }
 },
 "nbformat": 4,
 "nbformat_minor": 5
}

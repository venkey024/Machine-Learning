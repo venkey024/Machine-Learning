{
 "cells": [
  {
   "cell_type": "code",
   "execution_count": null,
   "id": "e2d041ef",
   "metadata": {},
   "outputs": [
    {
     "name": "stdout",
     "output_type": "stream",
     "text": [
      "Captain America,Age : 36,super power : Super strength\n"
     ]
    }
   ],
   "source": [
    "'''\n",
    "Avengers is a Marvel’s American Superheroes team, and if you are a fan of avengers, \n",
    "recently you have learned about classes and objects in your python course. \n",
    "Now you want to showcase your programming skills by representing the Avengers team using classes. \n",
    "Create a class called Avenger and create these six superheroes using this class.\n",
    "\n",
    "super_heroes = [\"Captain America\", \"Iron Man\", \"Black Widow\", \"Hulk\", \"Thor\", \"Hawkeye\"]'''\n",
    "\n",
    "'''\n",
    "Captain America has Super strength, Iron Man has Technology, Black Widow is superhuman,\n",
    "Hulk has Unlimited Strength, Thor has super Energy and Hawkeye has fighting skills as superpowers.\n",
    "'''\n",
    "\n",
    "\n",
    "\n",
    "class Avengers:\n",
    "    def __init__(self,name,age,gender,super_power,weapon):\n",
    "        self.name = name\n",
    "        self.age = age\n",
    "        self.gender = gender\n",
    "        self.super_power = super_power\n",
    "        self.waepon = ''\n",
    "    def __str__(self):\n",
    "        return f'{self.name},Age : {self.age},super power : {self.super_power}'\n",
    "         \n",
    "ca = Avengers(\"Captain America\",36,'M','Super strength','')\n",
    "print(ca)\n",
    "\n",
    "# im = Avengers(\"Iron Man\",37,'M','Technology')\n",
    "\n",
    "# bw = Avengers(\"Black Widow\",36,'M','superhuman')\n",
    "\n",
    "# hk = Avengers(\"Hulk\",38,'F','unlimited Strength')\n",
    "\n",
    "# tr = Avengers(\"Thor\",37,'M','Energy')\n",
    "\n",
    "# hk = Avengers(\"Hawkeye\",41,'M','fighting skills')\n",
    "\n"
   ]
  },
  {
   "cell_type": "code",
   "execution_count": null,
   "id": "a4412778",
   "metadata": {},
   "outputs": [],
   "source": []
  }
 ],
 "metadata": {
  "kernelspec": {
   "display_name": "base",
   "language": "python",
   "name": "python3"
  },
  "language_info": {
   "codemirror_mode": {
    "name": "ipython",
    "version": 3
   },
   "file_extension": ".py",
   "mimetype": "text/x-python",
   "name": "python",
   "nbconvert_exporter": "python",
   "pygments_lexer": "ipython3",
   "version": "3.12.7"
  }
 },
 "nbformat": 4,
 "nbformat_minor": 5
}

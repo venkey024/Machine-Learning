{
 "cells": [
  {
   "cell_type": "code",
   "execution_count": null,
   "id": "1ea50c5d",
   "metadata": {},
   "outputs": [],
   "source": [
    "kohli = {'first_n':'virat',\n",
    "'team':'india',\n",
    "'scores':[] }\n",
    "\n",
    "warner = {'first_n':'david',\n",
    "'team':'aus',\n",
    "'scores':[] }\n",
    "\n",
    "kohli['scores'] = [99,100,105]\n",
    "\n",
    "\n",
    "def get_team(per):\n",
    "    print(per['team'])\n",
    "\n",
    "def get_average(per):\n",
    "    print(sum(per['scores'])/len(kohli['scores']))\n",
    "    \n",
    "get_average(kohli)\n"
   ]
  },
  {
   "cell_type": "code",
   "execution_count": 24,
   "id": "283daa6e",
   "metadata": {},
   "outputs": [
    {
     "name": "stdout",
     "output_type": "stream",
     "text": [
      "100.0\n"
     ]
    }
   ],
   "source": [
    "#classes\n",
    "class CricketPlayer:\n",
    "    def __init__(self,scores):\n",
    "        self.name = ''\n",
    "        self.age = 0\n",
    "        self.team = ' '\n",
    "        self.scores = scores\n",
    "    def average_scores(self):\n",
    "        return (sum(self.scores)/len(self.scores))\n",
    "kohli = CricketPlayer([23,43,234])\n",
    "print(kohli.average_scores())\n",
    "\n",
    "     "
   ]
  },
  {
   "cell_type": "code",
   "execution_count": 25,
   "id": "047eaa31",
   "metadata": {},
   "outputs": [
    {
     "name": "stdout",
     "output_type": "stream",
     "text": [
      "The person name Venkey and age is 23\n"
     ]
    }
   ],
   "source": [
    "'''Write a Python program that demonstrates the creation of a class Person with attributes name and age\n",
    ", and a method display_info() \n",
    "that prints the information of the person.'''\n",
    "\n",
    "class Person:\n",
    "    def __init__(self,name,age):\n",
    "        self.name = name\n",
    "        self.age = age\n",
    "    def display_info(self):\n",
    "        print(f'The person name {self.name} and age is {self.age}')\n",
    "details = Person('Venkey',23)\n",
    "details.display_info()\n",
    "\n",
    "\n"
   ]
  },
  {
   "cell_type": "code",
   "execution_count": null,
   "id": "e57d5dec",
   "metadata": {},
   "outputs": [],
   "source": []
  }
 ],
 "metadata": {
  "kernelspec": {
   "display_name": "base",
   "language": "python",
   "name": "python3"
  },
  "language_info": {
   "codemirror_mode": {
    "name": "ipython",
    "version": 3
   },
   "file_extension": ".py",
   "mimetype": "text/x-python",
   "name": "python",
   "nbconvert_exporter": "python",
   "pygments_lexer": "ipython3",
   "version": "3.12.7"
  }
 },
 "nbformat": 4,
 "nbformat_minor": 5
}

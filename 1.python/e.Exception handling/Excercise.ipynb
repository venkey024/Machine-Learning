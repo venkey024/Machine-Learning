{
 "cells": [
  {
   "cell_type": "code",
   "execution_count": null,
   "id": "052675c5",
   "metadata": {},
   "outputs": [],
   "source": [
    "# lst = [int(x) for x in input().split()]\n",
    "\n",
    "# try:\n",
    "#     i = int(input(\"Enter Index: \"))\n",
    "#     print(lst[i])\n",
    "# except Exception as e:\n",
    "#     print(\"The Exception occured :\",e)\n",
    "# finally:\n",
    "#     print(\"Give Within range\")\n"
   ]
  },
  {
   "cell_type": "code",
   "execution_count": 28,
   "id": "08c72387",
   "metadata": {},
   "outputs": [
    {
     "name": "stdout",
     "output_type": "stream",
     "text": [
      "The Exception occur :  name 'mname' is not defined\n",
      "{'id': 575, 'first_name': 'Byna', 'middle_name': 'Venkey', 'last_name': 'Venkatesh'}\n"
     ]
    }
   ],
   "source": [
    "\n",
    "try:\n",
    "    Employee = {\"id\":575 , \"first_name\": 'Byna', \"middle_name\": mname, \"last_name\": 'Venkatesh'}\n",
    "    for employee in Employee:\n",
    "        full_name = employee['first_name'] + employee['middle_name'] + employee['last_name']\n",
    "        print(full_name)\n",
    "except Exception as e:\n",
    "    print(\"The Exception occur : \",e)\n",
    "finally:\n",
    "    print(Employee)\n",
    "    \n",
    "    \n",
    "\n",
    "\n",
    "\n",
    "\n",
    "\n",
    "\n",
    "\n"
   ]
  },
  {
   "cell_type": "code",
   "execution_count": null,
   "id": "f89d8697",
   "metadata": {},
   "outputs": [
    {
     "name": "stdout",
     "output_type": "stream",
     "text": [
      "[1 4 5 6 7 8]\n"
     ]
    }
   ],
   "source": []
  }
 ],
 "metadata": {
  "kernelspec": {
   "display_name": "base",
   "language": "python",
   "name": "python3"
  },
  "language_info": {
   "codemirror_mode": {
    "name": "ipython",
    "version": 3
   },
   "file_extension": ".py",
   "mimetype": "text/x-python",
   "name": "python",
   "nbconvert_exporter": "python",
   "pygments_lexer": "ipython3",
   "version": "3.12.7"
  }
 },
 "nbformat": 4,
 "nbformat_minor": 5
}
